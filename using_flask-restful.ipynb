{
 "cells": [
  {
   "cell_type": "code",
   "execution_count": 1,
   "id": "fc0c6d67",
   "metadata": {},
   "outputs": [
    {
     "name": "stdout",
     "output_type": "stream",
     "text": [
      "Requirement already satisfied: nest_asyncio in c:\\users\\ja 12\\downloads\\web development with python\\.venv\\lib\\site-packages (1.6.0)\n",
      "Requirement already satisfied: flask in c:\\users\\ja 12\\downloads\\web development with python\\.venv\\lib\\site-packages (3.1.2)\n",
      "Requirement already satisfied: flask_restful in c:\\users\\ja 12\\downloads\\web development with python\\.venv\\lib\\site-packages (0.3.10)\n",
      "Requirement already satisfied: blinker>=1.9.0 in c:\\users\\ja 12\\downloads\\web development with python\\.venv\\lib\\site-packages (from flask) (1.9.0)\n",
      "Requirement already satisfied: click>=8.1.3 in c:\\users\\ja 12\\downloads\\web development with python\\.venv\\lib\\site-packages (from flask) (8.2.1)\n",
      "Requirement already satisfied: itsdangerous>=2.2.0 in c:\\users\\ja 12\\downloads\\web development with python\\.venv\\lib\\site-packages (from flask) (2.2.0)\n",
      "Requirement already satisfied: jinja2>=3.1.2 in c:\\users\\ja 12\\downloads\\web development with python\\.venv\\lib\\site-packages (from flask) (3.1.6)\n",
      "Requirement already satisfied: markupsafe>=2.1.1 in c:\\users\\ja 12\\downloads\\web development with python\\.venv\\lib\\site-packages (from flask) (3.0.2)\n",
      "Requirement already satisfied: werkzeug>=3.1.0 in c:\\users\\ja 12\\downloads\\web development with python\\.venv\\lib\\site-packages (from flask) (3.1.3)\n",
      "Requirement already satisfied: aniso8601>=0.82 in c:\\users\\ja 12\\downloads\\web development with python\\.venv\\lib\\site-packages (from flask_restful) (10.0.1)\n",
      "Requirement already satisfied: six>=1.3.0 in c:\\users\\ja 12\\downloads\\web development with python\\.venv\\lib\\site-packages (from flask_restful) (1.17.0)\n",
      "Requirement already satisfied: pytz in c:\\users\\ja 12\\downloads\\web development with python\\.venv\\lib\\site-packages (from flask_restful) (2025.2)\n",
      "Requirement already satisfied: colorama in c:\\users\\ja 12\\downloads\\web development with python\\.venv\\lib\\site-packages (from click>=8.1.3->flask) (0.4.6)\n",
      "Note: you may need to restart the kernel to use updated packages.\n"
     ]
    }
   ],
   "source": [
    "%pip install nest_asyncio flask flask_restful"
   ]
  },
  {
   "cell_type": "code",
   "execution_count": 2,
   "id": "0079594d",
   "metadata": {},
   "outputs": [],
   "source": [
    "import nest_asyncio\n",
    "from flask import Flask, request\n",
    "from flask_restful import Api, Resource\n",
    "from threading import Thread"
   ]
  },
  {
   "cell_type": "code",
   "execution_count": 3,
   "id": "97af6ed3",
   "metadata": {},
   "outputs": [],
   "source": [
    "books = [\n",
    "    {\"isbn\": \"1234567890\", \"title\": \"The Great Gatsby\", \"author\": \"F. Scott Fitzgerald\", \"price\": 10.99},\n",
    "    {\"isbn\": \"0987654321\", \"title\": \"1984\", \"author\": \"George Orwell\", \"price\": 8.99}\n",
    "]"
   ]
  },
  {
   "cell_type": "code",
   "execution_count": 4,
   "id": "5ecaba23",
   "metadata": {},
   "outputs": [],
   "source": [
    "app = Flask(__name__)\n",
    "api = Api(app)"
   ]
  },
  {
   "cell_type": "code",
   "execution_count": 6,
   "id": "95abe56e",
   "metadata": {},
   "outputs": [],
   "source": [
    "class Books(Resource):\n",
    "    def get(self):\n",
    "        search_query = request.args.get('search')\n",
    "        if search_query:\n",
    "            results = [book for book in BOOKS.values() if \\\n",
    "                       search_query.lower() in book['title'].lower() or \\\n",
    "                       search_query.lower() in book['author'].lower()]\n",
    "            return jsonify(results)\n",
    "        return jsonify(BOOKS)\n",
    "\n",
    "\n",
    "def get(self, isbn=None):\n",
    "        if isbn:\n",
    "            for book in books:\n",
    "                if book['isbn'] == isbn:\n",
    "                    return book, 200\n",
    "            return {\"message\": \"Book not found\"}, 404\n",
    "        return books, 200"
   ]
  },
  {
   "cell_type": "code",
   "execution_count": 7,
   "id": "60de5af5",
   "metadata": {},
   "outputs": [],
   "source": [
    "def post(self):\n",
    "        new_book = request.json\n",
    "        books.append(new_book)\n",
    "        return new_book, 201"
   ]
  },
  {
   "cell_type": "code",
   "execution_count": 8,
   "id": "02c6e989",
   "metadata": {},
   "outputs": [],
   "source": [
    "def put(self, isbn):\n",
    "        for book in books:\n",
    "            if book['isbn'] == isbn:\n",
    "                book.update(request.json)\n",
    "                return book, 200\n",
    "        return {\"message\": \"Book not found\"}, 404"
   ]
  },
  {
   "cell_type": "code",
   "execution_count": 9,
   "id": "776862e0",
   "metadata": {},
   "outputs": [],
   "source": [
    "def delete(self, isbn):\n",
    "        global books\n",
    "        books = [book for book in books if book['isbn'] != isbn]\n",
    "        return {\"message\": \"Book deleted\"}, 200"
   ]
  },
  {
   "cell_type": "code",
   "execution_count": 10,
   "id": "f85affcd",
   "metadata": {},
   "outputs": [
    {
     "ename": "NameError",
     "evalue": "name 'Book' is not defined",
     "output_type": "error",
     "traceback": [
      "\u001b[31m---------------------------------------------------------------------------\u001b[39m",
      "\u001b[31mNameError\u001b[39m                                 Traceback (most recent call last)",
      "\u001b[36mCell\u001b[39m\u001b[36m \u001b[39m\u001b[32mIn[10]\u001b[39m\u001b[32m, line 1\u001b[39m\n\u001b[32m----> \u001b[39m\u001b[32m1\u001b[39m api.add_resource(\u001b[43mBook\u001b[49m, \u001b[33m'\u001b[39m\u001b[33m/books\u001b[39m\u001b[33m'\u001b[39m, \u001b[33m'\u001b[39m\u001b[33m/books/<string:isbn>\u001b[39m\u001b[33m'\u001b[39m)\n",
      "\u001b[31mNameError\u001b[39m: name 'Book' is not defined"
     ]
    }
   ],
   "source": [
    "api.add_resource(Book, '/books', '/books/<string:isbn>')"
   ]
  }
 ],
 "metadata": {
  "kernelspec": {
   "display_name": ".venv",
   "language": "python",
   "name": "python3"
  },
  "language_info": {
   "codemirror_mode": {
    "name": "ipython",
    "version": 3
   },
   "file_extension": ".py",
   "mimetype": "text/x-python",
   "name": "python",
   "nbconvert_exporter": "python",
   "pygments_lexer": "ipython3",
   "version": "3.11.9"
  }
 },
 "nbformat": 4,
 "nbformat_minor": 5
}
