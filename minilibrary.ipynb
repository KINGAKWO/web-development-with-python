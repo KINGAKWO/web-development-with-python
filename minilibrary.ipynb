{
 "cells": [
  {
   "cell_type": "code",
   "execution_count": 1,
   "id": "6f3e4418",
   "metadata": {},
   "outputs": [
    {
     "name": "stdout",
     "output_type": "stream",
     "text": [
      "Collecting flask-restful\n",
      "  Downloading Flask_RESTful-0.3.10-py2.py3-none-any.whl.metadata (1.0 kB)\n",
      "Collecting aniso8601>=0.82 (from flask-restful)\n",
      "  Downloading aniso8601-10.0.1-py2.py3-none-any.whl.metadata (23 kB)\n",
      "Requirement already satisfied: Flask>=0.8 in c:\\users\\ja 12\\downloads\\web development with python\\.venv\\lib\\site-packages (from flask-restful) (3.1.2)\n",
      "Requirement already satisfied: six>=1.3.0 in c:\\users\\ja 12\\downloads\\web development with python\\.venv\\lib\\site-packages (from flask-restful) (1.17.0)\n",
      "Collecting pytz (from flask-restful)\n",
      "  Downloading pytz-2025.2-py2.py3-none-any.whl.metadata (22 kB)\n",
      "Requirement already satisfied: blinker>=1.9.0 in c:\\users\\ja 12\\downloads\\web development with python\\.venv\\lib\\site-packages (from Flask>=0.8->flask-restful) (1.9.0)\n",
      "Requirement already satisfied: click>=8.1.3 in c:\\users\\ja 12\\downloads\\web development with python\\.venv\\lib\\site-packages (from Flask>=0.8->flask-restful) (8.2.1)\n",
      "Requirement already satisfied: itsdangerous>=2.2.0 in c:\\users\\ja 12\\downloads\\web development with python\\.venv\\lib\\site-packages (from Flask>=0.8->flask-restful) (2.2.0)\n",
      "Requirement already satisfied: jinja2>=3.1.2 in c:\\users\\ja 12\\downloads\\web development with python\\.venv\\lib\\site-packages (from Flask>=0.8->flask-restful) (3.1.6)\n",
      "Requirement already satisfied: markupsafe>=2.1.1 in c:\\users\\ja 12\\downloads\\web development with python\\.venv\\lib\\site-packages (from Flask>=0.8->flask-restful) (3.0.2)\n",
      "Requirement already satisfied: werkzeug>=3.1.0 in c:\\users\\ja 12\\downloads\\web development with python\\.venv\\lib\\site-packages (from Flask>=0.8->flask-restful) (3.1.3)\n",
      "Requirement already satisfied: colorama in c:\\users\\ja 12\\downloads\\web development with python\\.venv\\lib\\site-packages (from click>=8.1.3->Flask>=0.8->flask-restful) (0.4.6)\n",
      "Downloading Flask_RESTful-0.3.10-py2.py3-none-any.whl (26 kB)\n",
      "Downloading aniso8601-10.0.1-py2.py3-none-any.whl (52 kB)\n",
      "Downloading pytz-2025.2-py2.py3-none-any.whl (509 kB)\n",
      "Installing collected packages: pytz, aniso8601, flask-restful\n",
      "\n",
      "   ---------------------------------------- 0/3 [pytz]\n",
      "   ---------------------------------------- 0/3 [pytz]\n",
      "   ---------------------------------------- 0/3 [pytz]\n",
      "   ---------------------------------------- 0/3 [pytz]\n",
      "   ---------------------------------------- 0/3 [pytz]\n",
      "   ---------------------------------------- 0/3 [pytz]\n",
      "   ---------------------------------------- 0/3 [pytz]\n",
      "   ---------------------------------------- 0/3 [pytz]\n",
      "   ---------------------------------------- 0/3 [pytz]\n",
      "   ------------- -------------------------- 1/3 [aniso8601]\n",
      "   ------------- -------------------------- 1/3 [aniso8601]\n",
      "   -------------------------- ------------- 2/3 [flask-restful]\n",
      "   ---------------------------------------- 3/3 [flask-restful]\n",
      "\n",
      "Successfully installed aniso8601-10.0.1 flask-restful-0.3.10 pytz-2025.2\n",
      "Note: you may need to restart the kernel to use updated packages.\n"
     ]
    }
   ],
   "source": [
    "%pip install flask-restful"
   ]
  },
  {
   "cell_type": "code",
   "execution_count": 2,
   "id": "5c13401e",
   "metadata": {},
   "outputs": [],
   "source": [
    "#Configure Flask-RESTful: Create a new Python file (e.g., library_api.py) \n",
    "from flask import Flask\n",
    "from flask_restful import Api\n",
    "app = Flask(__name__)\n",
    "api = Api(app)"
   ]
  },
  {
   "cell_type": "code",
   "execution_count": 6,
   "id": "a88d8ae0",
   "metadata": {},
   "outputs": [],
   "source": [
    "#Create an endpoint to list all books(GET/books)\n",
    "from flask import jsonify\n",
    "from flask_restful import Resource\n",
    "\n",
    "BOOKS = {\n",
    "    \"1\":{\"title\":\"The Hitchhiker's Guide to the Galaxy\", \"author\":\"Douglas Adams\",\"publication_year\":1979},\n",
    "    \"2\":{\"title\":\"1984\", \"author\":\"George Orwell\",\"publication_year\":1949},\n",
    "    \"3\":{\"title\":\"To Kill a Mockingbird\", \"author\":\"Harper Lee\",\"publication_year\":1960}\n",
    "}\n",
    "\n",
    "class Books(Resource):\n",
    "    def get(self):\n",
    "        return jsonify(BOOKS)"
   ]
  },
  {
   "cell_type": "code",
   "execution_count": 7,
   "id": "83973ae9",
   "metadata": {},
   "outputs": [],
   "source": [
    "#Add search functionality to the GET/books endpoint, modify the GET method to allow searching by title or author\n",
    "from flask import request \n",
    "\n",
    "class Books(Resource):\n",
    "    def get(self):\n",
    "        search_query = request.args.get('search')\n",
    "        if search_query:\n",
    "            results = [book for book in BOOKS.values() if\n",
    "                    search_query.lower() in book ['title'].lower() or\n",
    "                    search_query.lower() in book['author'].lower()]\n",
    "            return jsonify(results)\n",
    "        return jsonify(BOOKS)"
   ]
  },
  {
   "cell_type": "code",
   "execution_count": 8,
   "id": "a9eb84ec",
   "metadata": {},
   "outputs": [],
   "source": [
    "#Add an endpoint to create a New book (POST/books)\n",
    "from flask_restful.reqparse import RequestParser\n",
    "from flask import abort \n",
    "\n",
    "parser = RequestParser()\n",
    "parser.add_argument('title', type=str,required=True, help=\"Title cannot be blank!\")\n",
    "parser.add_argument('author', type=str,required=True, help=\"Author cannot be blank!\")\n",
    "parser.add_argument('publication_year', type=int,required=True, help=\"Publication year cannot be blank!\")\n",
    "\n",
    "def authenticate(username, password):\n",
    "    return username == \"admin\" and password == \"password\"\n",
    "\n",
    "class Books(Resource):\n",
    "    def post(self):\n",
    "        auth = request.authorization\n",
    "        if not auth or not authenticate(auth.username, auth.password):\n",
    "            abort(401, description=\"Authentication failed\")\n",
    "            \n",
    "        args = parser.parse_args()\n",
    "        new_id = str(int(max(BOOKS.keys(), default='0')) + 1)\n",
    "        BOOKS[new_id] = {\n",
    "            \"title\": args['title'],\n",
    "            \"author\": args['author'],\n",
    "            \"publication_year\": args['publication_year']\n",
    "        }\n",
    "        return jsonify(BOOKS[new_id]), 201"
   ]
  },
  {
   "cell_type": "code",
   "execution_count": 9,
   "id": "3378707f",
   "metadata": {},
   "outputs": [],
   "source": [
    "#Handle errors gracefully: Add error handling for scenarios such as book not found, invalid input data, and authentication failures.\n",
    "class Book(Resource):\n",
    "    def get(self, book_id):\n",
    "        if book_id not in BOOKS:\n",
    "            abort(404, description=\"Book not found\")\n",
    "        return jsonify(BOOKS[book_id])"
   ]
  },
  {
   "cell_type": "code",
   "execution_count": null,
   "id": "ec420aea",
   "metadata": {},
   "outputs": [
    {
     "name": "stdout",
     "output_type": "stream",
     "text": [
      " * Serving Flask app '__main__'\n",
      " * Debug mode: on\n"
     ]
    },
    {
     "name": "stderr",
     "output_type": "stream",
     "text": [
      "WARNING: This is a development server. Do not use it in a production deployment. Use a production WSGI server instead.\n",
      " * Running on http://127.0.0.1:5000\n",
      "Press CTRL+C to quit\n",
      " * Restarting with stat\n"
     ]
    },
    {
     "ename": "SystemExit",
     "evalue": "1",
     "output_type": "error",
     "traceback": [
      "An exception has occurred, use %tb to see the full traceback.\n",
      "\u001b[31mSystemExit\u001b[39m\u001b[31m:\u001b[39m 1\n"
     ]
    },
    {
     "name": "stderr",
     "output_type": "stream",
     "text": [
      "c:\\Users\\JA 12\\Downloads\\web development with Python\\.venv\\Lib\\site-packages\\IPython\\core\\interactiveshell.py:3707: UserWarning: To exit: use 'exit', 'quit', or Ctrl-D.\n",
      "  warn(\"To exit: use 'exit', 'quit', or Ctrl-D.\", stacklevel=1)\n"
     ]
    }
   ],
   "source": [
    "#register the endpoints, link resources to their respective routes:\n",
    "#register the endpoints, link resources to their respective routes:\n",
    "api.add_resource(Books, '/books')\n",
    "api.add_resource(Book, '/books/<string:book_id>')"
   ]
  },
  {
   "cell_type": "code",
   "execution_count": null,
   "id": "320ea193",
   "metadata": {},
   "outputs": [
    {
     "name": "stdout",
     "output_type": "stream",
     "text": [
      " * Serving Flask app '__main__'\n"
     ]
    },
    {
     "name": "stdout",
     "output_type": "stream",
     "text": [
      " * Debug mode: on\n"
     ]
    },
    {
     "name": "stderr",
     "output_type": "stream",
     "text": [
      "WARNING: This is a development server. Do not use it in a production deployment. Use a production WSGI server instead.\n",
      " * Running on http://127.0.0.1:5000\n",
      "Press CTRL+C to quit\n",
      "127.0.0.1 - - [09/Sep/2025 23:56:23] \"GET / HTTP/1.1\" 404 -\n",
      "127.0.0.1 - - [09/Sep/2025 23:56:24] \"GET /favicon.ico HTTP/1.1\" 404 -\n"
     ]
    }
   ],
   "source": [
    "from threading import Thread\n",
    "\n",
    "def run_app():\n",
    "    app.run(debug=True, use_reloader=False)\n",
    "\n",
    "thread = Thread(target=run_app)\n",
    "thread.start()"
   ]
  }
 ],
 "metadata": {
  "kernelspec": {
   "display_name": ".venv",
   "language": "python",
   "name": "python3"
  },
  "language_info": {
   "codemirror_mode": {
    "name": "ipython",
    "version": 3
   },
   "file_extension": ".py",
   "mimetype": "text/x-python",
   "name": "python",
   "nbconvert_exporter": "python",
   "pygments_lexer": "ipython3",
   "version": "3.11.9"
  }
 },
 "nbformat": 4,
 "nbformat_minor": 5
}
